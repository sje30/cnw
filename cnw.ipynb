{
 "cells": [
  {
   "cell_type": "markdown",
   "metadata": {},
   "source": [
    "# Introduction to Computational Neuroscience\n",
    "\n",
    "# Prelim\n",
    "\n",
    "**This year the session is online... we will take a ten minute break in\n",
    "the middle.**\n",
    "\n",
    "<!-- - Tick/add your name on the sign-up sheet. -->\n",
    "- In case of fire/emergency: nearest fire-exit is on basement level, walking\n",
    "back the way we came.\n",
    "- Break at 12:55-13:05; bathrooms outside; cafe in central core\n",
    "upstairs open til 16:00.\n",
    "- Consider pairing up with someone else if you want to focus on the\n",
    "science rather than difficulties of learning matlab; there is no time\n",
    "today to give an introduction to matlab.\n",
    "\n",
    "# Introduction\n",
    "\n",
    "This is the fourth time I've tried this, and things keep changing, so\n",
    "be patient!  If nothing else, in two hours I hope you get to see what\n",
    "you can do with simple computer models.\n",
    "\n",
    "# Getting started\n",
    "\n",
    "Today we will be using mybinder.org to host our session in the cloud.\n",
    "This means you don't need to install anything, but it may be a bit slower."
   ]
  },
  {
   "cell_type": "code",
   "execution_count": null,
   "metadata": {},
   "outputs": [],
   "source": [
    "using Pkg\n",
    "Pkg.activate(\".\")\n",
    "Pkg.instantiate()\n",
    "using OrdinaryDiffEq\n",
    "using Plots\n",
    "using Statistics"
   ]
  },
  {
   "cell_type": "markdown",
   "metadata": {},
   "source": [
    "\n",
    "# Background maths\n",
    "\n",
    "\n",
    "## Euler integration\n",
    "\n",
    "Given some differential equation for how x changes over time and so\n",
    "initial condition (i.e. x = some value at time t = 0), we can\n",
    "integrate them numerically using Euler integration.\n",
    "\n",
    "$\\frac{dx}{dt} = f(x,t)$\n",
    "\n",
    "$X_{n+1} = X_{n}+ h \\frac{dx}{dt}$\n",
    "\n",
    "$X_{n+1} = X_{n}+ h f(X_{n}, nh)$\n",
    "\n",
    "Depending on the step-size h.\n",
    "\n",
    "## Trappenberg example (Appendix B)\n",
    "\n",
    "Solve differential equation\n",
    "\n",
    "$\\frac{dx}{dt} = t -x + 1$\n",
    "\n",
    "with initial conditions $x(0) = 1$.\n",
    "\n",
    "Known solution:\n",
    "\n",
    "$x(t) = \\exp(-t) + t$\n",
    "\n",
    "We will open [euler1.jl](euler1.jl) in matlab and then run the script by\n",
    "typing Control and Enter on include line below."
   ]
  },
  {
   "cell_type": "code",
   "execution_count": null,
   "metadata": {},
   "outputs": [],
   "source": [
    "include(\"euler1.jl\")\n",
    "plot_euler1(h=0.1)"
   ]
  },
  {
   "cell_type": "markdown",
   "metadata": {},
   "source": [
    "# Hodgkin-Huxley model\n",
    "\n",
    "\n",
    "## Reminder of the biology\n",
    "\n",
    "Its all in the channels!\n",
    "\n",
    "[http://tinyurl.com/matthews-channel](http://tinyurl.com/matthews-channel)\n",
    "\n",
    "## Reminder of the mathematics\n",
    "\n",
    "See [assignment 3](http://www.damtp.cam.ac.uk/user/sje30/teaching/r/spa3-2014.pdf)\n",
    "\n",
    "\n",
    "Julia has built-in functions for efficient numerical integration of\n",
    "ODEs.  We will use them here so that we focus on the problem and not the\n",
    "numerics.\n",
    "    \n",
    "Run with default I=0.1 and then compare with I=10."
   ]
  },
  {
   "cell_type": "code",
   "execution_count": null,
   "metadata": {},
   "outputs": [],
   "source": [
    "include(\"hhode.jl\")\n",
    "plot_hh(i=1.0)"
   ]
  },
  {
   "cell_type": "markdown",
   "metadata": {},
   "source": [
    "## Exercises\n",
    "\n",
    "1. Can you find the critical value of I where you first get a spike\n",
    "generated?\n",
    "\n",
    "2. Can you work out the units on I (check equation 1 and Table 1 of spa3)?\n",
    "\n",
    "3. Estimate the firing rate (in Hz) for the model as you vary I from 0\n",
    "   to 500.  Can you plot a graph of it?  \n",
    "   \n",
    "   <!-- e.g. see    [hh_plotrate.m](hh_plotrate.m) for a template. -->\n",
    "\n",
    "4. (Advanced) Apply a pulse of negative current with I=-50\n",
    "   for 5 ms followed by I=0 and describe what happens.\n",
    "\n",
    "5. Try other manipulations, e.g. what if you set dh/dt to\n",
    "   zero?  What would this simulate?\n",
    "                    \n",
    "                "
   ]
  },
  {
   "cell_type": "markdown",
   "metadata": {},
   "source": [
    "# Izhikevich models\n",
    "\n",
    "\n",
    "Let's simplify the models as far as we can; we are going to use the\n",
    "simplification due to Izhikevich.\n",
    "\n",
    "Read\n",
    "[the basic description](http://www.izhikevich.org/human_brain_simulation/Blue_Brain.htm#models%20of%20spiking%20neurons)\n",
    "and guess which is the real data.\n",
    "\n",
    "## The basic model\n",
    "\n",
    "![http://www.izhikevich.org/publications/izhik.gif](izhik.gif)\n",
    "\n",
    "\n",
    "## Exercise: Izhikevich\n",
    "\n",
    "1. [izh.jl](izh.jl) has the basic code for one of the models.  Try to\n",
    "   adapt using parameters a,b,c,d to generate each of the plots from\n",
    "   above.  e.g. how can you make a chattering cell (CH)?\n",
    "\n",
    "2. Explore [figure1.jl](figure1.jl).  This regenerates figure 1 of the\n",
    "   [2004 paper](http://www.izhikevich.org/publications/whichmod.pdf).\n",
    "   See if you can follow in the code how the model is adapted in each\n",
    "   case.\n",
    "   "
   ]
  },
  {
   "cell_type": "code",
   "execution_count": null,
   "metadata": {},
   "outputs": [],
   "source": [
    "include(\"izh.jl\")\n",
    "izh(a=0.02, b=0.2, c=-65,  d=6)"
   ]
  },
  {
   "cell_type": "markdown",
   "metadata": {},
   "source": [
    "### All 20 conditions\n",
    "\n",
    "Here in [figure1.jl](figure1.jl) we have all the conditions listed in the 2004 paper."
   ]
  },
  {
   "cell_type": "code",
   "execution_count": null,
   "metadata": {},
   "outputs": [],
   "source": [
    "include(\"figure1.jl\")"
   ]
  },
  {
   "cell_type": "markdown",
   "metadata": {},
   "source": [
    "# Coupling two neurons\n",
    "\n",
    "\n",
    "## Winner-take-all (WTA) network.\n",
    "\n",
    "Eqn 6.18 from Wilson (1999).  Couple two neurons that inhibit each other.\n",
    "\n",
    "$\\tau \\frac{dE_1}{dt} = -E_1 + S(K_1 - 3E_2)$\n",
    "\n",
    "$\\tau \\frac{dE_2}{dt} = -E_2 + S(K_2 - 3E_1)$\n",
    "\n",
    "$S(x) = [ 100(x^2) / (120^2 + x^2) ]_+$\n",
    "\n",
    "\n",
    "\n",
    "We will first run the script [WTA2.jl](WTA2.jl) with input to neuron 1 =\n",
    "60 and input to neuron 2 = 70.  We will examine the phase plane."
   ]
  },
  {
   "cell_type": "code",
   "execution_count": null,
   "metadata": {},
   "outputs": [],
   "source": [
    "include(\"WTA2.jl\")"
   ]
  },
  {
   "cell_type": "code",
   "execution_count": null,
   "metadata": {},
   "outputs": [],
   "source": [
    "using Plots\n",
    "time, res = WTA2(60.0, 70.0)\n",
    "plot(time, res', label=[\"E1\" \"E2\"],\txlabel = \"Time\", ylabel=\"Firing rate (Hz)\")"
   ]
  },
  {
   "cell_type": "markdown",
   "metadata": {},
   "source": [
    "### Exercises\n",
    "\n",
    "1. When the input to both cells is equal, what is the critical value\n",
    "   when one neurons dominates?  Start with input to both cells equal\n",
    "   to 20.\n",
    "\n",
    "2. Examine what happens when input to both neurons is 100.  Run it\n",
    "   several times and see which one wins.  Can you explain (and then\n",
    "   test) your result?"
   ]
  },
  {
   "cell_type": "markdown",
   "metadata": {},
   "source": [
    "## Coupling inhibitory neurons, part II.\n",
    "\n",
    "Wilson (Chapter 12) shows how pairs of neurons coupled with reciprocal\n",
    "inhibition can generate out-of-phase firing (not WTA).\n",
    "\n",
    "Try [IPSP.jl](IPSP.jl) with $I_1 = 1.1, I_2=1.0, k=5$.  We should see out-of-phase spiking.\n",
    "\n",
    "\n",
    "### Exercises\n",
    "\n",
    "1. Set TauSyn to 2 ms (rather than 1 ms) and repeat with above parameters.  What do you\n",
    "observe?\n",
    "\n",
    "2. As above, but with $I_1 = 1.05$; now what happens?\n"
   ]
  },
  {
   "cell_type": "code",
   "execution_count": null,
   "metadata": {
    "lines_to_next_cell": 0
   },
   "outputs": [],
   "source": [
    "include(\"IPSP.jl\")\n",
    "time, X = IPSPinteractions(1.1, 1.0, 5.0, 1.0)\n",
    "plot(time, X[ [1, 3], :]', label=[\"E1\" \"E3\"], legend=:topleft)"
   ]
  },
  {
   "cell_type": "markdown",
   "metadata": {},
   "source": []
  }
 ],
 "metadata": {
  "kernelspec": {
   "display_name": "Julia 1.4.2",
   "language": "julia",
   "name": "julia-1.4"
  }
 },
 "nbformat": 4,
 "nbformat_minor": 4
}
